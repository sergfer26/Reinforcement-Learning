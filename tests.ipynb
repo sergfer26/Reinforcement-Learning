{
 "cells": [
  {
   "cell_type": "code",
   "execution_count": null,
   "metadata": {},
   "outputs": [],
   "source": [
    "import numpy as np\n",
    "import pandas as pd\n",
    "from IPython.core.pylabtools import figsize\n",
    "from matplotlib import pyplot as plt\n",
    "from TicTacToe.human import Human as human\n",
    "from TicTacToe.duel import duel, play_n_duels"
   ]
  },
  {
   "cell_type": "markdown",
   "metadata": {},
   "source": [
    "# Value iteration"
   ]
  },
  {
   "cell_type": "markdown",
   "metadata": {},
   "source": [
    "## Value iteration player vs random player"
   ]
  },
  {
   "cell_type": "code",
   "execution_count": null,
   "metadata": {},
   "outputs": [],
   "source": [
    "from TicTacToe.agent_value_iteration import AgentVI as avi\n",
    "from TicTacToe.agent_random import RandomAgent as random_agent"
   ]
  },
  {
   "cell_type": "code",
   "execution_count": null,
   "metadata": {},
   "outputs": [],
   "source": [
    "agent1 = avi()\n",
    "agent2 = random_agent()\n",
    "human = human()"
   ]
  },
  {
   "cell_type": "code",
   "execution_count": null,
   "metadata": {},
   "outputs": [],
   "source": [
    "prob = play_n_duels(5000, agent2, agent1)"
   ]
  },
  {
   "cell_type": "code",
   "execution_count": null,
   "metadata": {},
   "outputs": [],
   "source": [
    "agent1.wins"
   ]
  },
  {
   "cell_type": "code",
   "execution_count": null,
   "metadata": {},
   "outputs": [],
   "source": [
    "agent1.rewards"
   ]
  },
  {
   "cell_type": "code",
   "execution_count": null,
   "metadata": {},
   "outputs": [],
   "source": [
    "prob"
   ]
  },
  {
   "cell_type": "code",
   "execution_count": null,
   "metadata": {},
   "outputs": [],
   "source": [
    "df = pd.DataFrame({ 'probabilidad' :prob })\n",
    "\n",
    "figsize(11, 9)\n",
    "df.plot(title='Juegos ganados por el agente VI ',color='b')\n",
    "plt.xlabel(\"juegos simulados\")\n",
    "plt.ylabel(\"Porcentaje de juegos ganados\")"
   ]
  },
  {
   "cell_type": "markdown",
   "metadata": {},
   "source": [
    "# Monte Carlo  "
   ]
  },
  {
   "cell_type": "markdown",
   "metadata": {},
   "source": [
    "## Monte Carlo player vs random player"
   ]
  },
  {
   "cell_type": "code",
   "execution_count": null,
   "metadata": {},
   "outputs": [],
   "source": [
    "from TicTacToe.agent_mc import AgentMC as amc\n",
    "from TicTacToe.human import Human as human"
   ]
  },
  {
   "cell_type": "code",
   "execution_count": null,
   "metadata": {},
   "outputs": [],
   "source": [
    "player1 = amc()"
   ]
  },
  {
   "cell_type": "code",
   "execution_count": null,
   "metadata": {},
   "outputs": [],
   "source": [
    "playerX = agent2\n",
    "playerO = player1"
   ]
  },
  {
   "cell_type": "code",
   "execution_count": null,
   "metadata": {},
   "outputs": [],
   "source": [
    "prob = play_n_duels(10000, playerX, playerO)"
   ]
  },
  {
   "cell_type": "code",
   "execution_count": null,
   "metadata": {},
   "outputs": [],
   "source": [
    "vals = [(k,v) for k, v in player1.values.items() if v != 0]"
   ]
  },
  {
   "cell_type": "code",
   "execution_count": null,
   "metadata": {},
   "outputs": [],
   "source": [
    "len(vals)# +138"
   ]
  },
  {
   "cell_type": "code",
   "execution_count": null,
   "metadata": {},
   "outputs": [],
   "source": [
    "player1.wins"
   ]
  },
  {
   "cell_type": "code",
   "execution_count": null,
   "metadata": {},
   "outputs": [],
   "source": [
    "df = pd.DataFrame({ 'probabilidad' :prob })\n",
    "\n",
    "figsize(11, 9)\n",
    "df.plot(title='Juegos ganados por el agente MC ',color='r')\n",
    "plt.xlabel(\"juegos simulados \")\n",
    "plt.ylabel(\"Porcentaje de juegos ganados (%)\")"
   ]
  },
  {
   "cell_type": "markdown",
   "metadata": {},
   "source": [
    "# Q-Learning"
   ]
  },
  {
   "cell_type": "markdown",
   "metadata": {},
   "source": [
    "## Q-Learning player vs random player"
   ]
  },
  {
   "cell_type": "code",
   "execution_count": null,
   "metadata": {},
   "outputs": [],
   "source": [
    "from TicTacToe.agent_tabular_qlearning import Agent_TQL as atql"
   ]
  },
  {
   "cell_type": "code",
   "execution_count": null,
   "metadata": {},
   "outputs": [],
   "source": [
    "epsilons  = [0.01, 0.4, 0.8]\n",
    "alphas = [0.001, 0.02, 0.3]\n",
    "gammas = [0.02, 0.1, 0.5]\n",
    "frecs = list()"
   ]
  },
  {
   "cell_type": "code",
   "execution_count": null,
   "metadata": {},
   "outputs": [],
   "source": [
    "for eps, alf , gam in zip(epsilons, alphas, gammas):\n",
    "    agent5 = atql()\n",
    "    agent5.epsilon = eps\n",
    "    agent5.alpha = alf\n",
    "    agent5.gamma = gam \n",
    "    \n",
    "    playerX = agent2\n",
    "    playerO = agent5\n",
    "    \n",
    "    frecs.append(play_n_duels(18000, playerX, playerO))"
   ]
  },
  {
   "cell_type": "code",
   "execution_count": null,
   "metadata": {},
   "outputs": [],
   "source": [
    "x = np.arange(180)\n",
    "legends = list()\n",
    "\n",
    "i = 0\n",
    "for e, a ,g in zip(epsilons, alphas, gammas): \n",
    "    plt.plot(x, frecs[i])\n",
    "    legends.append('e='+str(e)+', a='+str(a)+', g ='+str(g))\n",
    "    i +=1\n",
    "        \n",
    "figsize(11, 9)\n",
    "plt.legend(legends, loc='lower right')\n",
    "plt.xlabel(\"juegos simulados \")\n",
    "plt.ylabel(\"Frecuencia relativa de juegos ganados (%)\")\n",
    "plt.show()"
   ]
  },
  {
   "cell_type": "code",
   "execution_count": null,
   "metadata": {},
   "outputs": [],
   "source": [
    "agent7 = atql()\n",
    "agent7.epsilon = 0.2\n",
    "agent7.alpha = 0.02\n",
    "agent7.gamma = 0.7\n",
    "\n",
    "\n",
    "playerX = agent2\n",
    "playerO = agent7\n",
    "    \n",
    "frec = play_n_duels(25000, playerX, playerO)"
   ]
  },
  {
   "cell_type": "code",
   "execution_count": null,
   "metadata": {},
   "outputs": [],
   "source": [
    "df = pd.DataFrame({ 'probabilidad' :frec })\n",
    "\n",
    "figsize(11, 9)\n",
    "df.plot(title='Juegos ganados por el agente MC ',color='r')\n",
    "plt.xlabel(\"juegos simulados \")\n",
    "plt.ylabel(\"Porcentaje de juegos ganados (%)\")"
   ]
  },
  {
   "cell_type": "code",
   "execution_count": null,
   "metadata": {},
   "outputs": [],
   "source": [
    "import copy\n",
    "\n",
    "\n",
    "playerX = agent7\n",
    "playerO = copy.copy(agent7)\n",
    "    \n",
    "frec = play_n_duels(25000, playerX, playerO)\n",
    "df = pd.DataFrame({ 'probabilidad' :frec })\n",
    "\n",
    "figsize(11, 9)\n",
    "df.plot(title='Juegos ganados por el agente MC ',color='r')\n",
    "plt.xlabel(\"juegos simulados \")\n",
    "plt.ylabel(\"Porcentaje de juegos ganados (%)\")"
   ]
  },
  {
   "cell_type": "code",
   "execution_count": null,
   "metadata": {},
   "outputs": [],
   "source": [
    "#df = pd.DataFrame({ 'probabilidad' :prob })\n",
    "\n",
    "#figsize(11, 9)\n",
    "#df.plot(title='Juegos ganados por el agente Q ',color='r')\n"
   ]
  },
  {
   "cell_type": "code",
   "execution_count": null,
   "metadata": {},
   "outputs": [],
   "source": [
    "n = 1\n",
    "frecs = list()\n",
    "aux = agent5\n",
    "\n",
    "for _ in range(n):\n",
    "    agentq = atql()\n",
    "    agentq.epsilon = 0.4\n",
    "    agentq.alpha = 0.02\n",
    "    agentq.gamma = 0.1\n",
    "    \n",
    "    aux.epsilon = 0.1\n",
    "    playerX = aux\n",
    "    playerO = agentq\n",
    "    playerX.set_role('X')\n",
    "    playerO.set_role('O')\n",
    "    \n",
    "    frecs.append(play_n_duels(18000, playerX, playerO))\n",
    "    aux = agentq"
   ]
  },
  {
   "cell_type": "code",
   "execution_count": null,
   "metadata": {},
   "outputs": [],
   "source": [
    "x = np.arange(180)\n",
    "legends = list()\n",
    "\n",
    "i = 0\n",
    "for i in range(n): \n",
    "    plt.plot(x, frecs[i])\n",
    "    legends.append('entrenamiento #'+str(i+1))\n",
    "    \n",
    "plt.legend(legends, loc='lower right')\n",
    "plt.xlabel(\"juegos simulados \")\n",
    "plt.ylabel(\"Frecuencia relativa de juegos ganados (%)\")\n",
    "plt.show()"
   ]
  },
  {
   "cell_type": "markdown",
   "metadata": {},
   "source": [
    "# Q-Learning player vs human player"
   ]
  },
  {
   "cell_type": "code",
   "execution_count": null,
   "metadata": {},
   "outputs": [],
   "source": [
    "from TicTacToe.human import Human as human\n",
    "human = human()"
   ]
  },
  {
   "cell_type": "code",
   "execution_count": null,
   "metadata": {},
   "outputs": [],
   "source": [
    "agent7.epsilon = 0\n",
    "\n",
    "agent7.wins = 0\n"
   ]
  },
  {
   "cell_type": "code",
   "execution_count": null,
   "metadata": {},
   "outputs": [],
   "source": [
    "play_n_duels(3, human, agent7, show=True)"
   ]
  },
  {
   "cell_type": "code",
   "execution_count": null,
   "metadata": {},
   "outputs": [],
   "source": [
    "agent7.wins"
   ]
  },
  {
   "cell_type": "code",
   "execution_count": null,
   "metadata": {},
   "outputs": [],
   "source": [
    "duel(human, agentq, show=True)"
   ]
  },
  {
   "cell_type": "code",
   "execution_count": null,
   "metadata": {},
   "outputs": [],
   "source": [
    "agent5.wins"
   ]
  },
  {
   "cell_type": "code",
   "execution_count": null,
   "metadata": {},
   "outputs": [],
   "source": [
    "agent7.values"
   ]
  },
  {
   "cell_type": "code",
   "execution_count": null,
   "metadata": {},
   "outputs": [],
   "source": [
    "agent7.state_to_matrix(agent7.key_to_state(910))"
   ]
  },
  {
   "cell_type": "markdown",
   "metadata": {},
   "source": [
    "# SARSA"
   ]
  },
  {
   "cell_type": "markdown",
   "metadata": {},
   "source": [
    "## SARSA player vs random player"
   ]
  },
  {
   "cell_type": "code",
   "execution_count": null,
   "metadata": {},
   "outputs": [],
   "source": [
    "from TicTacToe.agent_sarsa import Agent_SARSA as asarsa"
   ]
  },
  {
   "cell_type": "code",
   "execution_count": null,
   "metadata": {},
   "outputs": [],
   "source": [
    "agent6 = asarsa()"
   ]
  },
  {
   "cell_type": "code",
   "execution_count": null,
   "metadata": {},
   "outputs": [],
   "source": [
    "playerX = agent2\n",
    "playerO = agent6"
   ]
  },
  {
   "cell_type": "code",
   "execution_count": null,
   "metadata": {},
   "outputs": [],
   "source": [
    "prob = play_n_duels(15000, playerX, playerO)"
   ]
  },
  {
   "cell_type": "code",
   "execution_count": null,
   "metadata": {},
   "outputs": [],
   "source": [
    "vals = [(k,v) for k, v in agent6.values.items() if v != 0]"
   ]
  },
  {
   "cell_type": "code",
   "execution_count": null,
   "metadata": {},
   "outputs": [],
   "source": [
    "len(vals)"
   ]
  },
  {
   "cell_type": "code",
   "execution_count": null,
   "metadata": {},
   "outputs": [],
   "source": [
    "agent6.wins"
   ]
  },
  {
   "cell_type": "code",
   "execution_count": null,
   "metadata": {},
   "outputs": [],
   "source": [
    "df = pd.DataFrame({ 'probabilidad' :prob })\n",
    "\n",
    "figsize(11, 9)\n",
    "df.plot(title='Juegos ganados por el agente SARSA ',color='r')\n",
    "plt.xlabel(\"juegos simulados \")\n",
    "plt.ylabel(\"Porcentaje de juegos ganados (%)\")"
   ]
  },
  {
   "cell_type": "code",
   "execution_count": null,
   "metadata": {},
   "outputs": [],
   "source": [
    "playerX = agent5\n",
    "playerO = agent6\n",
    "prob = play_n_duels(15000, playerX, playerO)"
   ]
  },
  {
   "cell_type": "code",
   "execution_count": null,
   "metadata": {},
   "outputs": [],
   "source": [
    "df = pd.DataFrame({ 'probabilidad' :prob })\n",
    "\n",
    "figsize(11, 9)\n",
    "df.plot(title='Juegos ganados por el agente SARSA ',color='r')\n",
    "plt.xlabel(\"juegos simulados \")\n",
    "plt.ylabel(\"Porcentaje de juegos ganados (%)\")"
   ]
  },
  {
   "cell_type": "code",
   "execution_count": null,
   "metadata": {},
   "outputs": [],
   "source": [
    "agent6.wins"
   ]
  },
  {
   "cell_type": "code",
   "execution_count": null,
   "metadata": {},
   "outputs": [],
   "source": [
    "agent6.set_role('X')\n",
    "duel(agent6, human, show=True)"
   ]
  },
  {
   "cell_type": "markdown",
   "metadata": {},
   "source": [
    "# Campeonato"
   ]
  },
  {
   "cell_type": "code",
   "execution_count": null,
   "metadata": {},
   "outputs": [],
   "source": [
    "from random import shuffle \n",
    "\n",
    "def campeonato(array):\n",
    "    jugadores = array\n",
    "    pasan = []\n",
    "    j = 0\n",
    "    shuffle(jugadores) #Revuelve los jugadores\n",
    "    for _ in range(len(array)/2):\n",
    "        jugadores[j].set_role('X')\n",
    "        jugadores[j+1].set_role('O')\n",
    "        ganador = duel(jugadores[j],jugadores[j+1],show = True)\n",
    "        if ganador == 1:\n",
    "            pasan.append(jugadores[j])\n",
    "        else:\n",
    "            pasan.append(jugadores[j+1])\n",
    "        j+=2\n",
    "        \n",
    "    j = 0\n",
    "    if len(pasan) > 1:\n",
    "        campeonato(pasan)\n",
    "    else:\n",
    "        ganador = pasan[0]\n",
    "        return ganador\n"
   ]
  },
  {
   "cell_type": "code",
   "execution_count": null,
   "metadata": {},
   "outputs": [],
   "source": [
    "def campeonatos(n,puntos):\n",
    "    for _ in range(n):\n",
    "        i = campeonato(Agentes)\n",
    "        puntos[i] = puntos[i] + 1\n",
    "\n",
    "    return puntos\n",
    "\n",
    "print(campeonatos(100,puntuacion))"
   ]
  }
 ],
 "metadata": {
  "kernelspec": {
   "display_name": "Python 3",
   "language": "python",
   "name": "python3"
  },
  "language_info": {
   "codemirror_mode": {
    "name": "ipython",
    "version": 3
   },
   "file_extension": ".py",
   "mimetype": "text/x-python",
   "name": "python",
   "nbconvert_exporter": "python",
   "pygments_lexer": "ipython3",
   "version": "3.7.4"
  }
 },
 "nbformat": 4,
 "nbformat_minor": 2
}
